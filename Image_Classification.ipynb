{
  "nbformat": 4,
  "nbformat_minor": 0,
  "metadata": {
    "colab": {
      "name": "Image Classification.ipynb",
      "provenance": [],
      "collapsed_sections": [],
      "include_colab_link": true
    },
    "kernelspec": {
      "display_name": "Python 3",
      "name": "python3"
    },
    "language_info": {
      "name": "python"
    }
  },
  "cells": [
    {
      "cell_type": "markdown",
      "metadata": {
        "id": "view-in-github",
        "colab_type": "text"
      },
      "source": [
        "<a href=\"https://colab.research.google.com/github/deepali0711/Image-classification/blob/main/Image_Classification.ipynb\" target=\"_parent\"><img src=\"https://colab.research.google.com/assets/colab-badge.svg\" alt=\"Open In Colab\"/></a>"
      ]
    },
    {
      "cell_type": "code",
      "metadata": {
        "id": "sJo4VB8vMjpJ"
      },
      "source": [
        "# Data : Images\n",
        "# step1. scrape the images using libraries.(python library)\n"
      ],
      "execution_count": null,
      "outputs": []
    },
    {
      "cell_type": "code",
      "metadata": {
        "colab": {
          "base_uri": "https://localhost:8080/"
        },
        "id": "xu3LbqH2RKP_",
        "outputId": "32ea01aa-8277-48a5-927b-bbee6de448de"
      },
      "source": [
        "!pip install bing-image-downloader"
      ],
      "execution_count": null,
      "outputs": [
        {
          "output_type": "stream",
          "text": [
            "Collecting bing-image-downloader\n",
            "  Downloading https://files.pythonhosted.org/packages/0d/bf/537a61030b84ae4cd5022d5c7b014fd9bc3ce7c02358919153a6658a61d3/bing_image_downloader-1.0.4-py3-none-any.whl\n",
            "Installing collected packages: bing-image-downloader\n",
            "Successfully installed bing-image-downloader-1.0.4\n"
          ],
          "name": "stdout"
        }
      ]
    },
    {
      "cell_type": "code",
      "metadata": {
        "id": "qRlo9UtbRgKx"
      },
      "source": [
        "!mkdir images"
      ],
      "execution_count": null,
      "outputs": []
    },
    {
      "cell_type": "code",
      "metadata": {
        "colab": {
          "base_uri": "https://localhost:8080/"
        },
        "id": "_Zb9Hax-RvRX",
        "outputId": "73d6a078-c0db-435e-b830-bfc16cb83d52"
      },
      "source": [
        "from bing_image_downloader import downloader\n",
        "downloader.download(\"flower\", limit=25,output_dir='images',adult_filter_off=True)\n",
        "downloader.download(\"bird\", limit=25,output_dir='images',adult_filter_off=True)"
      ],
      "execution_count": null,
      "outputs": [
        {
          "output_type": "stream",
          "text": [
            "\n",
            "\n",
            "[!!]Indexing page: 1\n",
            "\n",
            "[%] Indexed 10 Images on Page 1.\n",
            "\n",
            "===============================================\n",
            "\n",
            "[%] Downloading Image #1 from https://www.zoebuckman.com/wp-content/uploads/2015/05/red-purple-white-flowers-fine-art-photography-present-life-683x1024.jpg\n",
            "[%] File Downloaded !\n",
            "\n",
            "[%] Downloading Image #2 from https://cdn.architecturendesign.net/wp-content/uploads/2015/01/DIY-project-for-homedecor-29.jpg\n",
            "[%] File Downloaded !\n",
            "\n",
            "[%] Downloading Image #3 from https://www.mondofloraldesigns.com.au/wp-content/uploads/C00230_SCB150820.jpg\n",
            "[%] File Downloaded !\n",
            "\n",
            "[%] Downloading Image #4 from https://sdda.sd.gov/images/farming-ranching-agribusiness/farming_psthist_1.jpg\n",
            "[%] File Downloaded !\n",
            "\n",
            "[%] Downloading Image #5 from http://good-morning.cc/wp-content/uploads/2019/08/4552-11.jpg\n",
            "[%] File Downloaded !\n",
            "\n",
            "[%] Downloading Image #6 from http://rachelaclingen.com/wp-content/uploads/2015/12/Sri-Lankan-Oil-Lamp-Weddings-Toronto.jpg\n",
            "[%] File Downloaded !\n",
            "\n",
            "[%] Downloading Image #7 from https://weneedfun.com/wp-content/uploads/2017/01/Mustang-Burnout-19-1024x576.jpg\n",
            "[%] File Downloaded !\n",
            "\n",
            "[%] Downloading Image #8 from http://allforfashions.com/wp-content/uploads/2016/05/wedding-invitations-beach-theme.jpg\n",
            "[%] File Downloaded !\n",
            "\n",
            "[%] Downloading Image #9 from https://www.prettydesigns.com/wp-content/uploads/2015/07/20-ideas-to-make-floral-backdrop8.jpg\n",
            "[%] File Downloaded !\n",
            "\n",
            "[%] Downloading Image #10 from https://babyshowerideas4u.com/wp-content/uploads/2016/04/Modern-Chic-Chanel-Baby-Shower-Flower-Decorations.jpg\n",
            "[Error]Invalid image, not saving https://babyshowerideas4u.com/wp-content/uploads/2016/04/Modern-Chic-Chanel-Baby-Shower-Flower-Decorations.jpg\n",
            "\n",
            "[!] Issue getting: https://babyshowerideas4u.com/wp-content/uploads/2016/04/Modern-Chic-Chanel-Baby-Shower-Flower-Decorations.jpg\n",
            "[!] Error:: No active exception to reraise\n",
            "\n",
            "\n",
            "[!!]Indexing page: 2\n",
            "\n",
            "[%] Indexed 10 Images on Page 2.\n",
            "\n",
            "===============================================\n",
            "\n",
            "[%] Downloading Image #10 from https://www.zoebuckman.com/wp-content/uploads/2015/05/red-purple-white-flowers-fine-art-photography-present-life-683x1024.jpg\n",
            "[%] File Downloaded !\n",
            "\n",
            "[%] Downloading Image #11 from https://cdn.architecturendesign.net/wp-content/uploads/2015/01/DIY-project-for-homedecor-29.jpg\n",
            "[%] File Downloaded !\n",
            "\n",
            "[%] Downloading Image #12 from https://www.mondofloraldesigns.com.au/wp-content/uploads/C00230_SCB150820.jpg\n",
            "[%] File Downloaded !\n",
            "\n",
            "[%] Downloading Image #13 from https://babyshowerideas4u.com/wp-content/uploads/2016/04/Modern-Chic-Chanel-Baby-Shower-Flower-Decorations.jpg\n",
            "[Error]Invalid image, not saving https://babyshowerideas4u.com/wp-content/uploads/2016/04/Modern-Chic-Chanel-Baby-Shower-Flower-Decorations.jpg\n",
            "\n",
            "[!] Issue getting: https://babyshowerideas4u.com/wp-content/uploads/2016/04/Modern-Chic-Chanel-Baby-Shower-Flower-Decorations.jpg\n",
            "[!] Error:: No active exception to reraise\n",
            "[%] Downloading Image #13 from https://sdda.sd.gov/images/farming-ranching-agribusiness/farming_psthist_1.jpg\n",
            "[%] File Downloaded !\n",
            "\n",
            "[%] Downloading Image #14 from http://good-morning.cc/wp-content/uploads/2019/08/4552-11.jpg\n",
            "[%] File Downloaded !\n",
            "\n",
            "[%] Downloading Image #15 from http://rachelaclingen.com/wp-content/uploads/2015/12/Sri-Lankan-Oil-Lamp-Weddings-Toronto.jpg\n",
            "[%] File Downloaded !\n",
            "\n",
            "[%] Downloading Image #16 from http://allforfashions.com/wp-content/uploads/2016/05/wedding-invitations-beach-theme.jpg\n",
            "[%] File Downloaded !\n",
            "\n",
            "[%] Downloading Image #17 from https://www.prettydesigns.com/wp-content/uploads/2015/07/20-ideas-to-make-floral-backdrop8.jpg\n",
            "[%] File Downloaded !\n",
            "\n",
            "[%] Downloading Image #18 from https://weneedfun.com/wp-content/uploads/2017/01/Mustang-Burnout-19-1024x576.jpg\n",
            "[%] File Downloaded !\n",
            "\n",
            "\n",
            "\n",
            "[!!]Indexing page: 3\n",
            "\n",
            "[%] Indexed 11 Images on Page 3.\n",
            "\n",
            "===============================================\n",
            "\n",
            "[%] Downloading Image #19 from https://wallpapershome.com/images/wallpapers/flowers-720x1280-5k-4k-wallpaper-8k-sunray-yellow-green-grass-4658.jpg\n",
            "[%] File Downloaded !\n",
            "\n",
            "[%] Downloading Image #20 from https://www.parfumflowercompany.com/wp-content/uploads/2015/10/Pink-OHara-005.jpg\n",
            "[%] File Downloaded !\n",
            "\n",
            "[%] Downloading Image #21 from http://www.imagensparawhats.club/wp-content/uploads/2019/08/imagens-de-girassol-8.jpg\n",
            "[%] File Downloaded !\n",
            "\n",
            "[%] Downloading Image #22 from https://wedding-pictures-02.onewed.com/40591/classic-wedding-cake-with-romantic-pink-flowers__full.jpg\n",
            "[%] File Downloaded !\n",
            "\n",
            "[%] Downloading Image #23 from http://www.zoebuckman.com/wp-content/uploads/2015/05/purple-white-flowers-fine-art-photography-present-life.jpg\n",
            "[%] File Downloaded !\n",
            "\n",
            "[%] Downloading Image #24 from https://thumbnails.kpopmap.com/2020/06/Flower-Of-Evil-poster-drama-1-780.jpg\n",
            "[%] File Downloaded !\n",
            "\n",
            "[%] Downloading Image #25 from http://myamazingthings.com/wp-content/uploads/2017/03/unique-wrought-iron-garden-gates-design-metal-garden-gates-ideas-black-tulips.jpg\n",
            "[%] File Downloaded !\n",
            "\n",
            "\n",
            "\n",
            "[%] Done. Downloaded 25 images.\n",
            "\n",
            "===============================================\n",
            "\n",
            "\n",
            "\n",
            "[!!]Indexing page: 1\n",
            "\n",
            "[%] Indexed 10 Images on Page 1.\n",
            "\n",
            "===============================================\n",
            "\n",
            "[%] Downloading Image #1 from http://www.hdwallpapers.in/download/green_colored_bird-1920x1080.jpg\n",
            "[%] File Downloaded !\n",
            "\n",
            "[%] Downloading Image #2 from https://www.hdwallpapers.in/download/demon_slayer_zenitsu_agatsuma_with_a_bird_hd_anime-1366x768.jpg\n",
            "[%] File Downloaded !\n",
            "\n",
            "[%] Downloading Image #3 from https://wallpapershome.com/images/wallpapers/grand-lisboa-1920x1080-makao-china-best-hotels-tourism-travel-resort-5065.jpg\n",
            "[%] File Downloaded !\n",
            "\n",
            "[%] Downloading Image #4 from https://www.recreoviral.com/wp-content/uploads/2015/03/animales-albinos-14-730x548.jpg\n",
            "[%] File Downloaded !\n",
            "\n",
            "[%] Downloading Image #5 from http://www.tattooeasily.com/wp-content/uploads/2014/08/praying-hands-god-tattoo-508x1024.jpg\n",
            "[%] File Downloaded !\n",
            "\n",
            "[%] Downloading Image #6 from https://www.zooborns.com/.a/6a010535647bf3970b011570ad1bec970c-600wi\n",
            "[%] File Downloaded !\n",
            "\n",
            "[%] Downloading Image #7 from https://weneedfun.com/wp-content/uploads/2016/08/Goliath-Bird-Eating-Spider-162.jpg\n",
            "[%] File Downloaded !\n",
            "\n",
            "[%] Downloading Image #8 from http://myamazingthings.com/wp-content/uploads/2017/04/fairy-bird-bath-768x1024.jpg\n",
            "[%] File Downloaded !\n",
            "\n",
            "[%] Downloading Image #9 from https://beautyharmonylife.com/wp-content/uploads/2013/11/7802376qjp-800x1238.jpg\n",
            "[%] File Downloaded !\n",
            "\n",
            "[%] Downloading Image #10 from https://www.diyhowto.org/wp-content/uploads/2016/03/DIYHowto-Crochet-Panama-Flower-Hat-Free-Pattern-14.jpg\n",
            "[%] File Downloaded !\n",
            "\n",
            "\n",
            "\n",
            "[!!]Indexing page: 2\n",
            "\n",
            "[%] Indexed 10 Images on Page 2.\n",
            "\n",
            "===============================================\n",
            "\n",
            "[%] Downloading Image #11 from https://aviary.owls.com/uploads/images/barred_owl_Strix-varia.jpg\n",
            "[%] File Downloaded !\n",
            "\n",
            "[%] Downloading Image #12 from https://myamazingthings.com/wp-content/uploads/2017/04/fairy-bird-bath-768x1024.jpg\n",
            "[%] File Downloaded !\n",
            "\n",
            "[%] Downloading Image #13 from https://geekologie.com/2015/12/01/kingfisher-perfect-shot.jpg\n",
            "[%] File Downloaded !\n",
            "\n",
            "[%] Downloading Image #14 from https://hative.com/wp-content/uploads/2014/03/building-paper-roll-crafts/7-homemade-castle-craft.jpg\n",
            "[%] File Downloaded !\n",
            "\n",
            "[%] Downloading Image #15 from http://keeprecipes.com/sites/keeprecipes/files/7267_1326751879_0.jpg\n",
            "[%] File Downloaded !\n",
            "\n",
            "[%] Downloading Image #16 from https://www.themeparkreview.com/parks/pimages/Six_Flags_Over_Georgia/Marks_Postcard_Paradise_-_1970s_Souvenir_Book/sfog_souvenir_book_3_388x600.jpg\n",
            "[%] File Downloaded !\n",
            "\n",
            "[%] Downloading Image #17 from https://cdn.goodshomedesign.com/wp-content/uploads/2014/07/Wine-Cork-Bird-House.jpg\n",
            "[%] File Downloaded !\n",
            "\n",
            "[%] Downloading Image #18 from https://www.lushome.com/wp-content/uploads/2015/03/modern-ceiling-designs-home-interiors-8.jpg\n",
            "[%] File Downloaded !\n",
            "\n",
            "[%] Downloading Image #19 from https://www.digsdigs.com/photos/charming-vintage-easter-decor-ideas-9-554x782.jpg\n",
            "[%] File Downloaded !\n",
            "\n",
            "[%] Downloading Image #20 from https://www.indonesia-tourism.com/west-nusa-tenggara/images/Gili-Islands.jpg\n",
            "[%] File Downloaded !\n",
            "\n",
            "\n",
            "\n",
            "[!!]Indexing page: 3\n",
            "\n",
            "[%] Indexed 11 Images on Page 3.\n",
            "\n",
            "===============================================\n",
            "\n",
            "[%] Downloading Image #21 from https://wallpapershome.com/images/wallpapers/bird-of-paradise-3840x2160-bird-4k-15002.jpg\n",
            "[%] File Downloaded !\n",
            "\n",
            "[%] Downloading Image #22 from https://www.thepoke.co.uk/wp-content/uploads/2013/03/Balloon_015.jpg\n",
            "[%] File Downloaded !\n",
            "\n",
            "[%] Downloading Image #23 from http://myamazingthings.com/wp-content/uploads/2017/01/balcony12.jpg\n",
            "[%] File Downloaded !\n",
            "\n",
            "[%] Downloading Image #24 from https://wallpapershome.com/images/wallpapers/dove-3840x2160-bird-4k-15268.jpg\n",
            "[%] File Downloaded !\n",
            "\n",
            "[%] Downloading Image #25 from https://www.rspb.org.uk/globalassets/images/conservation-and-sustainability/advice-for-farmers/drainage-ditch-frampton-marsh_1041914.jpg\n",
            "[%] File Downloaded !\n",
            "\n",
            "\n",
            "\n",
            "[%] Done. Downloaded 25 images.\n",
            "\n",
            "===============================================\n",
            "\n"
          ],
          "name": "stdout"
        }
      ]
    },
    {
      "cell_type": "code",
      "metadata": {
        "colab": {
          "base_uri": "https://localhost:8080/"
        },
        "id": "R7Y1IuIyYGY7",
        "outputId": "0a79948d-d29e-47b4-c12c-445ca5ad76dd"
      },
      "source": [
        "import numpy as np\n",
        "\n",
        "a = np.array([1,2,3,4,5])\n",
        "a.ndim"
      ],
      "execution_count": null,
      "outputs": [
        {
          "output_type": "execute_result",
          "data": {
            "text/plain": [
              "1"
            ]
          },
          "metadata": {
            "tags": []
          },
          "execution_count": 5
        }
      ]
    },
    {
      "cell_type": "code",
      "metadata": {
        "id": "U1In4VR4WVSY"
      },
      "source": [
        "# step2 Preprocessing\n",
        "# 1.resize\n",
        "# 2. flatten\n",
        "\n",
        "import os\n",
        "import matplotlib.pyplot as plt\n",
        "import numpy as np\n",
        "from skimage.io import imread\n",
        "from skimage.transform import resize\n",
        "\n",
        "target = []\n",
        "images = []\n",
        "flat_data = []\n",
        "\n",
        "DATADIR = '/content/images'\n",
        "CATEGORIES = ['bird','flower']\n",
        "\n",
        "for category in CATEGORIES:\n",
        "  class_num = CATEGORIES.index(category)\n",
        "  path = os.path.join(DATADIR,category)\n",
        "  for img in os.listdir(path):\n",
        "    img_array = imread(os.path.join(path,img))\n",
        "    #print(img_array.shape)\n",
        "    #plt.imshow(img_array)\n",
        "    img_resized=resize(img_array,(150,150,3))\n",
        "    flat_data.append(img_resized.flatten())\n",
        "    images.append(img_resized)\n",
        "    target.append(class_num)\n",
        "\n",
        "flat_data = np.array(flat_data)\n",
        "target = np.array(target)\n",
        "images = np.array(images)\n",
        "\n",
        "\n"
      ],
      "execution_count": null,
      "outputs": []
    },
    {
      "cell_type": "code",
      "metadata": {
        "colab": {
          "base_uri": "https://localhost:8080/"
        },
        "id": "KKYJa_Qynnnb",
        "outputId": "cb8e17ec-675e-46fd-ae7b-279eae1cc587"
      },
      "source": [
        "len(flat_data[0])"
      ],
      "execution_count": null,
      "outputs": [
        {
          "output_type": "execute_result",
          "data": {
            "text/plain": [
              "67500"
            ]
          },
          "metadata": {
            "tags": []
          },
          "execution_count": 7
        }
      ]
    },
    {
      "cell_type": "code",
      "metadata": {
        "colab": {
          "base_uri": "https://localhost:8080/"
        },
        "id": "XyGewtFPny_6",
        "outputId": "08ed20d0-be92-408f-b05e-221aef3ac79f"
      },
      "source": [
        "150*150"
      ],
      "execution_count": null,
      "outputs": [
        {
          "output_type": "execute_result",
          "data": {
            "text/plain": [
              "22500"
            ]
          },
          "metadata": {
            "tags": []
          },
          "execution_count": 8
        }
      ]
    },
    {
      "cell_type": "code",
      "metadata": {
        "colab": {
          "base_uri": "https://localhost:8080/"
        },
        "id": "T5J1kbMgoG1u",
        "outputId": "210f325e-df50-4f64-9bf8-e574ee4326b4"
      },
      "source": [
        "target"
      ],
      "execution_count": null,
      "outputs": [
        {
          "output_type": "execute_result",
          "data": {
            "text/plain": [
              "array([0, 0, 0, 0, 0, 0, 0, 0, 0, 0, 0, 0, 0, 0, 0, 0, 0, 0, 0, 0, 0, 0,\n",
              "       0, 0, 0, 1, 1, 1, 1, 1, 1, 1, 1, 1, 1, 1, 1, 1, 1, 1, 1, 1, 1, 1,\n",
              "       1, 1, 1, 1, 1, 1])"
            ]
          },
          "metadata": {
            "tags": []
          },
          "execution_count": 9
        }
      ]
    },
    {
      "cell_type": "code",
      "metadata": {
        "colab": {
          "base_uri": "https://localhost:8080/",
          "height": 282
        },
        "id": "KcF8vsQ5oOEr",
        "outputId": "bdd41518-0831-4f1e-e8c8-8f190cb42b1d"
      },
      "source": [
        "unique,count =  np.unique(target,return_counts=True)\n",
        "plt.bar(CATEGORIES,count)"
      ],
      "execution_count": null,
      "outputs": [
        {
          "output_type": "execute_result",
          "data": {
            "text/plain": [
              "<BarContainer object of 2 artists>"
            ]
          },
          "metadata": {
            "tags": []
          },
          "execution_count": 10
        },
        {
          "output_type": "display_data",
          "data": {
            "image/png": "[encoded data removed]",
            "text/plain": [
              "<Figure size 432x288 with 1 Axes>"
            ]
          },
          "metadata": {
            "tags": []
          }
        }
      ]
    },
    {
      "cell_type": "code",
      "metadata": {
        "id": "n73nlKJQojbk"
      },
      "source": [
        "#split data into training nd testing\n",
        "from sklearn.model_selection import train_test_split\n",
        "x_train,x_test,y_train,y_test = train_test_split(flat_data,target,test_size=0.3,random_state=109)"
      ],
      "execution_count": null,
      "outputs": []
    },
    {
      "cell_type": "code",
      "metadata": {
        "colab": {
          "base_uri": "https://localhost:8080/"
        },
        "id": "G5rABUjXppU3",
        "outputId": "5c320f29-fbf8-4520-acc7-4ec6f9d4417a"
      },
      "source": [
        "from sklearn.model_selection import GridSearchCV\n",
        "from sklearn import svm\n",
        "param_grid = [\n",
        "              {\n",
        "                'C':[1,10,100,1000],\n",
        "                'kernel':['linear']\n",
        "              },\n",
        "              {\n",
        "                'C':[1,10,100,1000],\n",
        "                'gamma':[0.001,0.0001],\n",
        "                'kernel':['rbf']\n",
        "              },\n",
        "]\n",
        "\n",
        "svc = svm.SVC(probability=True)\n",
        "clf = GridSearchCV(svc,param_grid)\n",
        "clf.fit(x_train,y_train)"
      ],
      "execution_count": null,
      "outputs": [
        {
          "output_type": "execute_result",
          "data": {
            "text/plain": [
              "GridSearchCV(cv=None, error_score=nan,\n",
              "             estimator=SVC(C=1.0, break_ties=False, cache_size=200,\n",
              "                           class_weight=None, coef0=0.0,\n",
              "                           decision_function_shape='ovr', degree=3,\n",
              "                           gamma='scale', kernel='rbf', max_iter=-1,\n",
              "                           probability=True, random_state=None, shrinking=True,\n",
              "                           tol=0.001, verbose=False),\n",
              "             iid='deprecated', n_jobs=None,\n",
              "             param_grid=[{'C': [1, 10, 100, 1000], 'kernel': ['linear']},\n",
              "                         {'C': [1, 10, 100, 1000], 'gamma': [0.001, 0.0001],\n",
              "                          'kernel': ['rbf']}],\n",
              "             pre_dispatch='2*n_jobs', refit=True, return_train_score=False,\n",
              "             scoring=None, verbose=0)"
            ]
          },
          "metadata": {
            "tags": []
          },
          "execution_count": 12
        }
      ]
    },
    {
      "cell_type": "code",
      "metadata": {
        "colab": {
          "base_uri": "https://localhost:8080/"
        },
        "id": "r_rMZh3g8A1M",
        "outputId": "4283ca9f-89fd-4dd6-f42d-8297e411fd31"
      },
      "source": [
        "y_pred = clf.predict(x_test)\n",
        "y_pred"
      ],
      "execution_count": null,
      "outputs": [
        {
          "output_type": "execute_result",
          "data": {
            "text/plain": [
              "array([0, 0, 0, 1, 0, 0, 0, 0, 0, 1, 0, 0, 0, 0, 1])"
            ]
          },
          "metadata": {
            "tags": []
          },
          "execution_count": 13
        }
      ]
    },
    {
      "cell_type": "code",
      "metadata": {
        "colab": {
          "base_uri": "https://localhost:8080/"
        },
        "id": "ALp4j00n8HKh",
        "outputId": "9e80a3c3-2c1f-4789-f2e3-54bce33d24d8"
      },
      "source": [
        "y_test"
      ],
      "execution_count": null,
      "outputs": [
        {
          "output_type": "execute_result",
          "data": {
            "text/plain": [
              "array([0, 1, 0, 1, 1, 0, 1, 1, 0, 1, 0, 1, 1, 0, 1])"
            ]
          },
          "metadata": {
            "tags": []
          },
          "execution_count": 14
        }
      ]
    },
    {
      "cell_type": "code",
      "metadata": {
        "colab": {
          "base_uri": "https://localhost:8080/"
        },
        "id": "GFkAg13T8Ibc",
        "outputId": "60e101ea-b2b0-4942-c623-a74692729bde"
      },
      "source": [
        "from sklearn.metrics import accuracy_score,confusion_matrix\n",
        "accuracy_score(y_pred,y_test)"
      ],
      "execution_count": null,
      "outputs": [
        {
          "output_type": "execute_result",
          "data": {
            "text/plain": [
              "0.6"
            ]
          },
          "metadata": {
            "tags": []
          },
          "execution_count": 15
        }
      ]
    },
    {
      "cell_type": "code",
      "metadata": {
        "colab": {
          "base_uri": "https://localhost:8080/"
        },
        "id": "94U-_bdx8V9a",
        "outputId": "3c59d9ac-7f84-4c21-9668-5ff166da7a16"
      },
      "source": [
        "confusion_matrix(y_pred,y_test)"
      ],
      "execution_count": null,
      "outputs": [
        {
          "output_type": "execute_result",
          "data": {
            "text/plain": [
              "array([[6, 6],\n",
              "       [0, 3]])"
            ]
          },
          "metadata": {
            "tags": []
          },
          "execution_count": 16
        }
      ]
    },
    {
      "cell_type": "code",
      "metadata": {
        "colab": {
          "background_save": true,
          "base_uri": "https://localhost:8080/",
          "height": 321
        },
        "id": "CFwXGDsx8dnm",
        "outputId": "a2cee3a8-ba65-4c5d-cea0-61af9a96978a"
      },
      "source": [
        "flat_data = []\n",
        "url = input(\"Enter your image url: \")\n",
        "img = imread(url) \n",
        "img_resized = resize(img,(150,150,3))\n",
        "flat_data.append(img_resized.flatten())\n",
        "flat_data = np.array(flat_data)\n",
        "print(img.shape)\n",
        "plt.imshow(img_resized)\n",
        "y_out = clf.predict(flat_data)\n",
        "y_out = CATEGORIES[y_out[0]]\n",
        "print(f'PREDICTED OUTPUT: {y_out}')"
      ],
      "execution_count": null,
      "outputs": [
        {
          "output_type": "stream",
          "text": [
            "(224, 224, 3)\n",
            "PREDICTED OUTPUT: bird\n"
          ],
          "name": "stdout"
        },
        {
          "output_type": "display_data",
          "data": {
            "image/png": "[encoded data removed]",
            "text/plain": [
              "<Figure size 432x288 with 1 Axes>"
            ]
          },
          "metadata": {
            "tags": []
          }
        }
      ]
    },
    {
      "cell_type": "code",
      "metadata": {
        "id": "2b6grabbeoIz"
      },
      "source": [
        ""
      ],
      "execution_count": null,
      "outputs": []
    }
  ]
}